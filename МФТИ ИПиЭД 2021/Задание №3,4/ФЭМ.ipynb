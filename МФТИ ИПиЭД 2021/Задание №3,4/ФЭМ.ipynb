{
 "cells": [
  {
   "cell_type": "markdown",
   "id": "adolescent-number",
   "metadata": {},
   "source": [
    "#### Для месторождения Капмо Трес необходимо cформировать финансово - экономическую модель и рассчитать показатели разработки:\n",
    "* Ввести данные по профилю добычи\n",
    "* Ввести данные по вводу скважины\n",
    "* Ввести данные по бурению/кустованию \n",
    "* Ввести данные по схеме поверхностного обустройства \n",
    "* Рассчитать финансово-экономические показатели "
   ]
  },
  {
   "cell_type": "code",
   "execution_count": 1,
   "id": "danish-soviet",
   "metadata": {},
   "outputs": [
    {
     "data": {
      "text/html": [
       "        <script type=\"text/javascript\">\n",
       "        window.PlotlyConfig = {MathJaxConfig: 'local'};\n",
       "        if (window.MathJax) {MathJax.Hub.Config({SVG: {font: \"STIX-Web\"}});}\n",
       "        if (typeof require !== 'undefined') {\n",
       "        require.undef(\"plotly\");\n",
       "        requirejs.config({\n",
       "            paths: {\n",
       "                'plotly': ['https://cdn.plot.ly/plotly-latest.min']\n",
       "            }\n",
       "        });\n",
       "        require(['plotly'], function(Plotly) {\n",
       "            window._Plotly = Plotly;\n",
       "        });\n",
       "        }\n",
       "        </script>\n",
       "        "
      ]
     },
     "metadata": {},
     "output_type": "display_data"
    }
   ],
   "source": [
    "import plotly.graph_objs as go\n",
    "import pandas as pd\n",
    "from plotly.offline import init_notebook_mode\n",
    "\n",
    "init_notebook_mode(connected = True)"
   ]
  },
  {
   "cell_type": "markdown",
   "id": "visible-launch",
   "metadata": {},
   "source": [
    "*1) Вводим статические параметры пласта и обустройства месторождения:*"
   ]
  },
  {
   "cell_type": "code",
   "execution_count": 2,
   "id": "civilian-carnival",
   "metadata": {},
   "outputs": [],
   "source": [
    "depth = 2500 # глубина пласта, м\n",
    "pads_number = 4 # количество кустов\n",
    "horizontal_length = 700 # длина горизонтального участка ствола добывающих ГС, м\n",
    "HF_halflength = 500 # полудлина трещины ГРП (скин=-2), м\n"
   ]
  },
  {
   "cell_type": "markdown",
   "id": "considerable-memory",
   "metadata": {},
   "source": [
    "*2) Вводим сценарные экономические условия (задаются преподавателем); их можно будет менять для анализа чувствительности:*"
   ]
  },
  {
   "cell_type": "code",
   "execution_count": 3,
   "id": "needed-internship",
   "metadata": {},
   "outputs": [],
   "source": [
    "oil_price = 15000 # цена нефти в руб/т\n",
    "oil_taxes = 10500 # налоги в руб/т нефти\n",
    "transport_price = 500 # стоимость транспорта нефти в руб/т\n",
    "discount_rate = 15 # ставка дисконтирования"
   ]
  },
  {
   "cell_type": "markdown",
   "id": "defensive-squad",
   "metadata": {},
   "source": [
    "*3) Загружаем профили добычи жидкости, нефти, воды и газа из симулятора:*"
   ]
  },
  {
   "cell_type": "code",
   "execution_count": 5,
   "id": "medieval-following",
   "metadata": {},
   "outputs": [
    {
     "data": {
      "application/vnd.plotly.v1+json": {
       "config": {
        "plotlyServerURL": "https://plot.ly"
       },
       "data": [
        {
         "name": "Добыча нефти, тыс. т",
         "type": "scatter",
         "x": [
          2020,
          2021,
          2022,
          2023,
          2024,
          2025,
          2026,
          2027,
          2028,
          2029,
          2030,
          2031,
          2032,
          2033,
          2034,
          2035,
          2036,
          2037,
          2038,
          2039
         ],
         "y": [
          661.28,
          717.46,
          598.79,
          480.72,
          370.59,
          270,
          184.57,
          129.6,
          99.27,
          79.39,
          66.07,
          54.23,
          42.55,
          33.09,
          27.05,
          22.95,
          20.31,
          19.23,
          18.98,
          19.1
         ]
        },
        {
         "name": "Добыча жидкости, тыс. т",
         "type": "scatter",
         "x": [
          2020,
          2021,
          2022,
          2023,
          2024,
          2025,
          2026,
          2027,
          2028,
          2029,
          2030,
          2031,
          2032,
          2033,
          2034,
          2035,
          2036,
          2037,
          2038,
          2039
         ],
         "y": [
          661.75,
          717.93,
          599.26,
          481.26,
          371.47,
          277.22,
          210.07,
          173.06,
          154.11,
          141.81,
          134.73,
          128.37,
          124.52,
          123.79,
          126.34,
          130.68,
          136.63,
          143.83,
          151.69,
          159.66
         ]
        },
        {
         "name": "Добыча попутного газа, млн нм3",
         "type": "scatter",
         "x": [
          2020,
          2021,
          2022,
          2023,
          2024,
          2025,
          2026,
          2027,
          2028,
          2029,
          2030,
          2031,
          2032,
          2033,
          2034,
          2035,
          2036,
          2037,
          2038,
          2039
         ],
         "y": [
          111.19,
          131.79,
          131.02,
          132.87,
          127.38,
          106.13,
          77.7,
          58.63,
          46.45,
          37.41,
          29.69,
          21.1,
          14.33,
          10.76,
          8.09,
          6.16,
          4.85,
          3.97,
          3.44,
          3.08
         ]
        },
        {
         "name": "Закачка воды, тыс. м3",
         "type": "scatter",
         "x": [
          2020,
          2021,
          2022,
          2023,
          2024,
          2025,
          2026,
          2027,
          2028,
          2029,
          2030,
          2031,
          2032,
          2033,
          2034,
          2035,
          2036,
          2037,
          2038,
          2039
         ],
         "y": [
          16.66,
          311.52,
          306.57,
          306.57,
          306.57,
          306.57,
          306.57,
          306.57,
          306.57,
          306.57,
          306.57,
          306.57,
          306.57,
          306.57,
          306.57,
          306.57,
          306.57,
          306.57,
          306.57,
          306.57
         ]
        }
       ],
       "layout": {
        "legend": {
         "orientation": "h",
         "x": 0.5,
         "xanchor": "center"
        },
        "template": {
         "data": {
          "bar": [
           {
            "error_x": {
             "color": "#2a3f5f"
            },
            "error_y": {
             "color": "#2a3f5f"
            },
            "marker": {
             "line": {
              "color": "#E5ECF6",
              "width": 0.5
             }
            },
            "type": "bar"
           }
          ],
          "barpolar": [
           {
            "marker": {
             "line": {
              "color": "#E5ECF6",
              "width": 0.5
             }
            },
            "type": "barpolar"
           }
          ],
          "carpet": [
           {
            "aaxis": {
             "endlinecolor": "#2a3f5f",
             "gridcolor": "white",
             "linecolor": "white",
             "minorgridcolor": "white",
             "startlinecolor": "#2a3f5f"
            },
            "baxis": {
             "endlinecolor": "#2a3f5f",
             "gridcolor": "white",
             "linecolor": "white",
             "minorgridcolor": "white",
             "startlinecolor": "#2a3f5f"
            },
            "type": "carpet"
           }
          ],
          "choropleth": [
           {
            "colorbar": {
             "outlinewidth": 0,
             "ticks": ""
            },
            "type": "choropleth"
           }
          ],
          "contour": [
           {
            "colorbar": {
             "outlinewidth": 0,
             "ticks": ""
            },
            "colorscale": [
             [
              0,
              "#0d0887"
             ],
             [
              0.1111111111111111,
              "#46039f"
             ],
             [
              0.2222222222222222,
              "#7201a8"
             ],
             [
              0.3333333333333333,
              "#9c179e"
             ],
             [
              0.4444444444444444,
              "#bd3786"
             ],
             [
              0.5555555555555556,
              "#d8576b"
             ],
             [
              0.6666666666666666,
              "#ed7953"
             ],
             [
              0.7777777777777778,
              "#fb9f3a"
             ],
             [
              0.8888888888888888,
              "#fdca26"
             ],
             [
              1,
              "#f0f921"
             ]
            ],
            "type": "contour"
           }
          ],
          "contourcarpet": [
           {
            "colorbar": {
             "outlinewidth": 0,
             "ticks": ""
            },
            "type": "contourcarpet"
           }
          ],
          "heatmap": [
           {
            "colorbar": {
             "outlinewidth": 0,
             "ticks": ""
            },
            "colorscale": [
             [
              0,
              "#0d0887"
             ],
             [
              0.1111111111111111,
              "#46039f"
             ],
             [
              0.2222222222222222,
              "#7201a8"
             ],
             [
              0.3333333333333333,
              "#9c179e"
             ],
             [
              0.4444444444444444,
              "#bd3786"
             ],
             [
              0.5555555555555556,
              "#d8576b"
             ],
             [
              0.6666666666666666,
              "#ed7953"
             ],
             [
              0.7777777777777778,
              "#fb9f3a"
             ],
             [
              0.8888888888888888,
              "#fdca26"
             ],
             [
              1,
              "#f0f921"
             ]
            ],
            "type": "heatmap"
           }
          ],
          "heatmapgl": [
           {
            "colorbar": {
             "outlinewidth": 0,
             "ticks": ""
            },
            "colorscale": [
             [
              0,
              "#0d0887"
             ],
             [
              0.1111111111111111,
              "#46039f"
             ],
             [
              0.2222222222222222,
              "#7201a8"
             ],
             [
              0.3333333333333333,
              "#9c179e"
             ],
             [
              0.4444444444444444,
              "#bd3786"
             ],
             [
              0.5555555555555556,
              "#d8576b"
             ],
             [
              0.6666666666666666,
              "#ed7953"
             ],
             [
              0.7777777777777778,
              "#fb9f3a"
             ],
             [
              0.8888888888888888,
              "#fdca26"
             ],
             [
              1,
              "#f0f921"
             ]
            ],
            "type": "heatmapgl"
           }
          ],
          "histogram": [
           {
            "marker": {
             "colorbar": {
              "outlinewidth": 0,
              "ticks": ""
             }
            },
            "type": "histogram"
           }
          ],
          "histogram2d": [
           {
            "colorbar": {
             "outlinewidth": 0,
             "ticks": ""
            },
            "colorscale": [
             [
              0,
              "#0d0887"
             ],
             [
              0.1111111111111111,
              "#46039f"
             ],
             [
              0.2222222222222222,
              "#7201a8"
             ],
             [
              0.3333333333333333,
              "#9c179e"
             ],
             [
              0.4444444444444444,
              "#bd3786"
             ],
             [
              0.5555555555555556,
              "#d8576b"
             ],
             [
              0.6666666666666666,
              "#ed7953"
             ],
             [
              0.7777777777777778,
              "#fb9f3a"
             ],
             [
              0.8888888888888888,
              "#fdca26"
             ],
             [
              1,
              "#f0f921"
             ]
            ],
            "type": "histogram2d"
           }
          ],
          "histogram2dcontour": [
           {
            "colorbar": {
             "outlinewidth": 0,
             "ticks": ""
            },
            "colorscale": [
             [
              0,
              "#0d0887"
             ],
             [
              0.1111111111111111,
              "#46039f"
             ],
             [
              0.2222222222222222,
              "#7201a8"
             ],
             [
              0.3333333333333333,
              "#9c179e"
             ],
             [
              0.4444444444444444,
              "#bd3786"
             ],
             [
              0.5555555555555556,
              "#d8576b"
             ],
             [
              0.6666666666666666,
              "#ed7953"
             ],
             [
              0.7777777777777778,
              "#fb9f3a"
             ],
             [
              0.8888888888888888,
              "#fdca26"
             ],
             [
              1,
              "#f0f921"
             ]
            ],
            "type": "histogram2dcontour"
           }
          ],
          "mesh3d": [
           {
            "colorbar": {
             "outlinewidth": 0,
             "ticks": ""
            },
            "type": "mesh3d"
           }
          ],
          "parcoords": [
           {
            "line": {
             "colorbar": {
              "outlinewidth": 0,
              "ticks": ""
             }
            },
            "type": "parcoords"
           }
          ],
          "pie": [
           {
            "automargin": true,
            "type": "pie"
           }
          ],
          "scatter": [
           {
            "marker": {
             "colorbar": {
              "outlinewidth": 0,
              "ticks": ""
             }
            },
            "type": "scatter"
           }
          ],
          "scatter3d": [
           {
            "line": {
             "colorbar": {
              "outlinewidth": 0,
              "ticks": ""
             }
            },
            "marker": {
             "colorbar": {
              "outlinewidth": 0,
              "ticks": ""
             }
            },
            "type": "scatter3d"
           }
          ],
          "scattercarpet": [
           {
            "marker": {
             "colorbar": {
              "outlinewidth": 0,
              "ticks": ""
             }
            },
            "type": "scattercarpet"
           }
          ],
          "scattergeo": [
           {
            "marker": {
             "colorbar": {
              "outlinewidth": 0,
              "ticks": ""
             }
            },
            "type": "scattergeo"
           }
          ],
          "scattergl": [
           {
            "marker": {
             "colorbar": {
              "outlinewidth": 0,
              "ticks": ""
             }
            },
            "type": "scattergl"
           }
          ],
          "scattermapbox": [
           {
            "marker": {
             "colorbar": {
              "outlinewidth": 0,
              "ticks": ""
             }
            },
            "type": "scattermapbox"
           }
          ],
          "scatterpolar": [
           {
            "marker": {
             "colorbar": {
              "outlinewidth": 0,
              "ticks": ""
             }
            },
            "type": "scatterpolar"
           }
          ],
          "scatterpolargl": [
           {
            "marker": {
             "colorbar": {
              "outlinewidth": 0,
              "ticks": ""
             }
            },
            "type": "scatterpolargl"
           }
          ],
          "scatterternary": [
           {
            "marker": {
             "colorbar": {
              "outlinewidth": 0,
              "ticks": ""
             }
            },
            "type": "scatterternary"
           }
          ],
          "surface": [
           {
            "colorbar": {
             "outlinewidth": 0,
             "ticks": ""
            },
            "colorscale": [
             [
              0,
              "#0d0887"
             ],
             [
              0.1111111111111111,
              "#46039f"
             ],
             [
              0.2222222222222222,
              "#7201a8"
             ],
             [
              0.3333333333333333,
              "#9c179e"
             ],
             [
              0.4444444444444444,
              "#bd3786"
             ],
             [
              0.5555555555555556,
              "#d8576b"
             ],
             [
              0.6666666666666666,
              "#ed7953"
             ],
             [
              0.7777777777777778,
              "#fb9f3a"
             ],
             [
              0.8888888888888888,
              "#fdca26"
             ],
             [
              1,
              "#f0f921"
             ]
            ],
            "type": "surface"
           }
          ],
          "table": [
           {
            "cells": {
             "fill": {
              "color": "#EBF0F8"
             },
             "line": {
              "color": "white"
             }
            },
            "header": {
             "fill": {
              "color": "#C8D4E3"
             },
             "line": {
              "color": "white"
             }
            },
            "type": "table"
           }
          ]
         },
         "layout": {
          "annotationdefaults": {
           "arrowcolor": "#2a3f5f",
           "arrowhead": 0,
           "arrowwidth": 1
          },
          "autotypenumbers": "strict",
          "coloraxis": {
           "colorbar": {
            "outlinewidth": 0,
            "ticks": ""
           }
          },
          "colorscale": {
           "diverging": [
            [
             0,
             "#8e0152"
            ],
            [
             0.1,
             "#c51b7d"
            ],
            [
             0.2,
             "#de77ae"
            ],
            [
             0.3,
             "#f1b6da"
            ],
            [
             0.4,
             "#fde0ef"
            ],
            [
             0.5,
             "#f7f7f7"
            ],
            [
             0.6,
             "#e6f5d0"
            ],
            [
             0.7,
             "#b8e186"
            ],
            [
             0.8,
             "#7fbc41"
            ],
            [
             0.9,
             "#4d9221"
            ],
            [
             1,
             "#276419"
            ]
           ],
           "sequential": [
            [
             0,
             "#0d0887"
            ],
            [
             0.1111111111111111,
             "#46039f"
            ],
            [
             0.2222222222222222,
             "#7201a8"
            ],
            [
             0.3333333333333333,
             "#9c179e"
            ],
            [
             0.4444444444444444,
             "#bd3786"
            ],
            [
             0.5555555555555556,
             "#d8576b"
            ],
            [
             0.6666666666666666,
             "#ed7953"
            ],
            [
             0.7777777777777778,
             "#fb9f3a"
            ],
            [
             0.8888888888888888,
             "#fdca26"
            ],
            [
             1,
             "#f0f921"
            ]
           ],
           "sequentialminus": [
            [
             0,
             "#0d0887"
            ],
            [
             0.1111111111111111,
             "#46039f"
            ],
            [
             0.2222222222222222,
             "#7201a8"
            ],
            [
             0.3333333333333333,
             "#9c179e"
            ],
            [
             0.4444444444444444,
             "#bd3786"
            ],
            [
             0.5555555555555556,
             "#d8576b"
            ],
            [
             0.6666666666666666,
             "#ed7953"
            ],
            [
             0.7777777777777778,
             "#fb9f3a"
            ],
            [
             0.8888888888888888,
             "#fdca26"
            ],
            [
             1,
             "#f0f921"
            ]
           ]
          },
          "colorway": [
           "#636efa",
           "#EF553B",
           "#00cc96",
           "#ab63fa",
           "#FFA15A",
           "#19d3f3",
           "#FF6692",
           "#B6E880",
           "#FF97FF",
           "#FECB52"
          ],
          "font": {
           "color": "#2a3f5f"
          },
          "geo": {
           "bgcolor": "white",
           "lakecolor": "white",
           "landcolor": "#E5ECF6",
           "showlakes": true,
           "showland": true,
           "subunitcolor": "white"
          },
          "hoverlabel": {
           "align": "left"
          },
          "hovermode": "closest",
          "mapbox": {
           "style": "light"
          },
          "paper_bgcolor": "white",
          "plot_bgcolor": "#E5ECF6",
          "polar": {
           "angularaxis": {
            "gridcolor": "white",
            "linecolor": "white",
            "ticks": ""
           },
           "bgcolor": "#E5ECF6",
           "radialaxis": {
            "gridcolor": "white",
            "linecolor": "white",
            "ticks": ""
           }
          },
          "scene": {
           "xaxis": {
            "backgroundcolor": "#E5ECF6",
            "gridcolor": "white",
            "gridwidth": 2,
            "linecolor": "white",
            "showbackground": true,
            "ticks": "",
            "zerolinecolor": "white"
           },
           "yaxis": {
            "backgroundcolor": "#E5ECF6",
            "gridcolor": "white",
            "gridwidth": 2,
            "linecolor": "white",
            "showbackground": true,
            "ticks": "",
            "zerolinecolor": "white"
           },
           "zaxis": {
            "backgroundcolor": "#E5ECF6",
            "gridcolor": "white",
            "gridwidth": 2,
            "linecolor": "white",
            "showbackground": true,
            "ticks": "",
            "zerolinecolor": "white"
           }
          },
          "shapedefaults": {
           "line": {
            "color": "#2a3f5f"
           }
          },
          "ternary": {
           "aaxis": {
            "gridcolor": "white",
            "linecolor": "white",
            "ticks": ""
           },
           "baxis": {
            "gridcolor": "white",
            "linecolor": "white",
            "ticks": ""
           },
           "bgcolor": "#E5ECF6",
           "caxis": {
            "gridcolor": "white",
            "linecolor": "white",
            "ticks": ""
           }
          },
          "title": {
           "x": 0.05
          },
          "xaxis": {
           "automargin": true,
           "gridcolor": "white",
           "linecolor": "white",
           "ticks": "",
           "title": {
            "standoff": 15
           },
           "zerolinecolor": "white",
           "zerolinewidth": 2
          },
          "yaxis": {
           "automargin": true,
           "gridcolor": "white",
           "linecolor": "white",
           "ticks": "",
           "title": {
            "standoff": 15
           },
           "zerolinecolor": "white",
           "zerolinewidth": 2
          }
         }
        },
        "title": {
         "text": "Основные показатели разработки"
        }
       }
      },
      "text/html": [
       "<div>                            <div id=\"824df8c8-5b77-4410-a6e1-b2a5c3f9bde1\" class=\"plotly-graph-div\" style=\"height:525px; width:100%;\"></div>            <script type=\"text/javascript\">                require([\"plotly\"], function(Plotly) {                    window.PLOTLYENV=window.PLOTLYENV || {};                                    if (document.getElementById(\"824df8c8-5b77-4410-a6e1-b2a5c3f9bde1\")) {                    Plotly.newPlot(                        \"824df8c8-5b77-4410-a6e1-b2a5c3f9bde1\",                        [{\"name\": \"\\u0414\\u043e\\u0431\\u044b\\u0447\\u0430 \\u043d\\u0435\\u0444\\u0442\\u0438, \\u0442\\u044b\\u0441. \\u0442\", \"type\": \"scatter\", \"x\": [2020, 2021, 2022, 2023, 2024, 2025, 2026, 2027, 2028, 2029, 2030, 2031, 2032, 2033, 2034, 2035, 2036, 2037, 2038, 2039], \"y\": [661.28, 717.46, 598.79, 480.72, 370.59, 270.0, 184.57, 129.6, 99.27, 79.39, 66.07, 54.23, 42.55, 33.09, 27.05, 22.95, 20.31, 19.23, 18.98, 19.1]}, {\"name\": \"\\u0414\\u043e\\u0431\\u044b\\u0447\\u0430 \\u0436\\u0438\\u0434\\u043a\\u043e\\u0441\\u0442\\u0438, \\u0442\\u044b\\u0441. \\u0442\", \"type\": \"scatter\", \"x\": [2020, 2021, 2022, 2023, 2024, 2025, 2026, 2027, 2028, 2029, 2030, 2031, 2032, 2033, 2034, 2035, 2036, 2037, 2038, 2039], \"y\": [661.75, 717.93, 599.26, 481.26, 371.47, 277.22, 210.07, 173.06, 154.11, 141.81, 134.73, 128.37, 124.52, 123.79, 126.34, 130.68, 136.63, 143.83, 151.69, 159.66]}, {\"name\": \"\\u0414\\u043e\\u0431\\u044b\\u0447\\u0430 \\u043f\\u043e\\u043f\\u0443\\u0442\\u043d\\u043e\\u0433\\u043e \\u0433\\u0430\\u0437\\u0430, \\u043c\\u043b\\u043d \\u043d\\u043c3\", \"type\": \"scatter\", \"x\": [2020, 2021, 2022, 2023, 2024, 2025, 2026, 2027, 2028, 2029, 2030, 2031, 2032, 2033, 2034, 2035, 2036, 2037, 2038, 2039], \"y\": [111.19, 131.79, 131.02, 132.87, 127.38, 106.13, 77.7, 58.63, 46.45, 37.41, 29.69, 21.1, 14.33, 10.76, 8.09, 6.16, 4.85, 3.97, 3.44, 3.08]}, {\"name\": \"\\u0417\\u0430\\u043a\\u0430\\u0447\\u043a\\u0430 \\u0432\\u043e\\u0434\\u044b, \\u0442\\u044b\\u0441. \\u043c3\", \"type\": \"scatter\", \"x\": [2020, 2021, 2022, 2023, 2024, 2025, 2026, 2027, 2028, 2029, 2030, 2031, 2032, 2033, 2034, 2035, 2036, 2037, 2038, 2039], \"y\": [16.66, 311.52, 306.57, 306.57, 306.57, 306.57, 306.57, 306.57, 306.57, 306.57, 306.57, 306.57, 306.57, 306.57, 306.57, 306.57, 306.57, 306.57, 306.57, 306.57]}],                        {\"legend\": {\"orientation\": \"h\", \"x\": 0.5, \"xanchor\": \"center\"}, \"template\": {\"data\": {\"bar\": [{\"error_x\": {\"color\": \"#2a3f5f\"}, \"error_y\": {\"color\": \"#2a3f5f\"}, \"marker\": {\"line\": {\"color\": \"#E5ECF6\", \"width\": 0.5}}, \"type\": \"bar\"}], \"barpolar\": [{\"marker\": {\"line\": {\"color\": \"#E5ECF6\", \"width\": 0.5}}, \"type\": \"barpolar\"}], \"carpet\": [{\"aaxis\": {\"endlinecolor\": \"#2a3f5f\", \"gridcolor\": \"white\", \"linecolor\": \"white\", \"minorgridcolor\": \"white\", \"startlinecolor\": \"#2a3f5f\"}, \"baxis\": {\"endlinecolor\": \"#2a3f5f\", \"gridcolor\": \"white\", \"linecolor\": \"white\", \"minorgridcolor\": \"white\", \"startlinecolor\": \"#2a3f5f\"}, \"type\": \"carpet\"}], \"choropleth\": [{\"colorbar\": {\"outlinewidth\": 0, \"ticks\": \"\"}, \"type\": \"choropleth\"}], \"contour\": [{\"colorbar\": {\"outlinewidth\": 0, \"ticks\": \"\"}, \"colorscale\": [[0.0, \"#0d0887\"], [0.1111111111111111, \"#46039f\"], [0.2222222222222222, \"#7201a8\"], [0.3333333333333333, \"#9c179e\"], [0.4444444444444444, \"#bd3786\"], [0.5555555555555556, \"#d8576b\"], [0.6666666666666666, \"#ed7953\"], [0.7777777777777778, \"#fb9f3a\"], [0.8888888888888888, \"#fdca26\"], [1.0, \"#f0f921\"]], \"type\": \"contour\"}], \"contourcarpet\": [{\"colorbar\": {\"outlinewidth\": 0, \"ticks\": \"\"}, \"type\": \"contourcarpet\"}], \"heatmap\": [{\"colorbar\": {\"outlinewidth\": 0, \"ticks\": \"\"}, \"colorscale\": [[0.0, \"#0d0887\"], [0.1111111111111111, \"#46039f\"], [0.2222222222222222, \"#7201a8\"], [0.3333333333333333, \"#9c179e\"], [0.4444444444444444, \"#bd3786\"], [0.5555555555555556, \"#d8576b\"], [0.6666666666666666, \"#ed7953\"], [0.7777777777777778, \"#fb9f3a\"], [0.8888888888888888, \"#fdca26\"], [1.0, \"#f0f921\"]], \"type\": \"heatmap\"}], \"heatmapgl\": [{\"colorbar\": {\"outlinewidth\": 0, \"ticks\": \"\"}, \"colorscale\": [[0.0, \"#0d0887\"], [0.1111111111111111, \"#46039f\"], [0.2222222222222222, \"#7201a8\"], [0.3333333333333333, \"#9c179e\"], [0.4444444444444444, \"#bd3786\"], [0.5555555555555556, \"#d8576b\"], [0.6666666666666666, \"#ed7953\"], [0.7777777777777778, \"#fb9f3a\"], [0.8888888888888888, \"#fdca26\"], [1.0, \"#f0f921\"]], \"type\": \"heatmapgl\"}], \"histogram\": [{\"marker\": {\"colorbar\": {\"outlinewidth\": 0, \"ticks\": \"\"}}, \"type\": \"histogram\"}], \"histogram2d\": [{\"colorbar\": {\"outlinewidth\": 0, \"ticks\": \"\"}, \"colorscale\": [[0.0, \"#0d0887\"], [0.1111111111111111, \"#46039f\"], [0.2222222222222222, \"#7201a8\"], [0.3333333333333333, \"#9c179e\"], [0.4444444444444444, \"#bd3786\"], [0.5555555555555556, \"#d8576b\"], [0.6666666666666666, \"#ed7953\"], [0.7777777777777778, \"#fb9f3a\"], [0.8888888888888888, \"#fdca26\"], [1.0, \"#f0f921\"]], \"type\": \"histogram2d\"}], \"histogram2dcontour\": [{\"colorbar\": {\"outlinewidth\": 0, \"ticks\": \"\"}, \"colorscale\": [[0.0, \"#0d0887\"], [0.1111111111111111, \"#46039f\"], [0.2222222222222222, \"#7201a8\"], [0.3333333333333333, \"#9c179e\"], [0.4444444444444444, \"#bd3786\"], [0.5555555555555556, \"#d8576b\"], [0.6666666666666666, \"#ed7953\"], [0.7777777777777778, \"#fb9f3a\"], [0.8888888888888888, \"#fdca26\"], [1.0, \"#f0f921\"]], \"type\": \"histogram2dcontour\"}], \"mesh3d\": [{\"colorbar\": {\"outlinewidth\": 0, \"ticks\": \"\"}, \"type\": \"mesh3d\"}], \"parcoords\": [{\"line\": {\"colorbar\": {\"outlinewidth\": 0, \"ticks\": \"\"}}, \"type\": \"parcoords\"}], \"pie\": [{\"automargin\": true, \"type\": \"pie\"}], \"scatter\": [{\"marker\": {\"colorbar\": {\"outlinewidth\": 0, \"ticks\": \"\"}}, \"type\": \"scatter\"}], \"scatter3d\": [{\"line\": {\"colorbar\": {\"outlinewidth\": 0, \"ticks\": \"\"}}, \"marker\": {\"colorbar\": {\"outlinewidth\": 0, \"ticks\": \"\"}}, \"type\": \"scatter3d\"}], \"scattercarpet\": [{\"marker\": {\"colorbar\": {\"outlinewidth\": 0, \"ticks\": \"\"}}, \"type\": \"scattercarpet\"}], \"scattergeo\": [{\"marker\": {\"colorbar\": {\"outlinewidth\": 0, \"ticks\": \"\"}}, \"type\": \"scattergeo\"}], \"scattergl\": [{\"marker\": {\"colorbar\": {\"outlinewidth\": 0, \"ticks\": \"\"}}, \"type\": \"scattergl\"}], \"scattermapbox\": [{\"marker\": {\"colorbar\": {\"outlinewidth\": 0, \"ticks\": \"\"}}, \"type\": \"scattermapbox\"}], \"scatterpolar\": [{\"marker\": {\"colorbar\": {\"outlinewidth\": 0, \"ticks\": \"\"}}, \"type\": \"scatterpolar\"}], \"scatterpolargl\": [{\"marker\": {\"colorbar\": {\"outlinewidth\": 0, \"ticks\": \"\"}}, \"type\": \"scatterpolargl\"}], \"scatterternary\": [{\"marker\": {\"colorbar\": {\"outlinewidth\": 0, \"ticks\": \"\"}}, \"type\": \"scatterternary\"}], \"surface\": [{\"colorbar\": {\"outlinewidth\": 0, \"ticks\": \"\"}, \"colorscale\": [[0.0, \"#0d0887\"], [0.1111111111111111, \"#46039f\"], [0.2222222222222222, \"#7201a8\"], [0.3333333333333333, \"#9c179e\"], [0.4444444444444444, \"#bd3786\"], [0.5555555555555556, \"#d8576b\"], [0.6666666666666666, \"#ed7953\"], [0.7777777777777778, \"#fb9f3a\"], [0.8888888888888888, \"#fdca26\"], [1.0, \"#f0f921\"]], \"type\": \"surface\"}], \"table\": [{\"cells\": {\"fill\": {\"color\": \"#EBF0F8\"}, \"line\": {\"color\": \"white\"}}, \"header\": {\"fill\": {\"color\": \"#C8D4E3\"}, \"line\": {\"color\": \"white\"}}, \"type\": \"table\"}]}, \"layout\": {\"annotationdefaults\": {\"arrowcolor\": \"#2a3f5f\", \"arrowhead\": 0, \"arrowwidth\": 1}, \"autotypenumbers\": \"strict\", \"coloraxis\": {\"colorbar\": {\"outlinewidth\": 0, \"ticks\": \"\"}}, \"colorscale\": {\"diverging\": [[0, \"#8e0152\"], [0.1, \"#c51b7d\"], [0.2, \"#de77ae\"], [0.3, \"#f1b6da\"], [0.4, \"#fde0ef\"], [0.5, \"#f7f7f7\"], [0.6, \"#e6f5d0\"], [0.7, \"#b8e186\"], [0.8, \"#7fbc41\"], [0.9, \"#4d9221\"], [1, \"#276419\"]], \"sequential\": [[0.0, \"#0d0887\"], [0.1111111111111111, \"#46039f\"], [0.2222222222222222, \"#7201a8\"], [0.3333333333333333, \"#9c179e\"], [0.4444444444444444, \"#bd3786\"], [0.5555555555555556, \"#d8576b\"], [0.6666666666666666, \"#ed7953\"], [0.7777777777777778, \"#fb9f3a\"], [0.8888888888888888, \"#fdca26\"], [1.0, \"#f0f921\"]], \"sequentialminus\": [[0.0, \"#0d0887\"], [0.1111111111111111, \"#46039f\"], [0.2222222222222222, \"#7201a8\"], [0.3333333333333333, \"#9c179e\"], [0.4444444444444444, \"#bd3786\"], [0.5555555555555556, \"#d8576b\"], [0.6666666666666666, \"#ed7953\"], [0.7777777777777778, \"#fb9f3a\"], [0.8888888888888888, \"#fdca26\"], [1.0, \"#f0f921\"]]}, \"colorway\": [\"#636efa\", \"#EF553B\", \"#00cc96\", \"#ab63fa\", \"#FFA15A\", \"#19d3f3\", \"#FF6692\", \"#B6E880\", \"#FF97FF\", \"#FECB52\"], \"font\": {\"color\": \"#2a3f5f\"}, \"geo\": {\"bgcolor\": \"white\", \"lakecolor\": \"white\", \"landcolor\": \"#E5ECF6\", \"showlakes\": true, \"showland\": true, \"subunitcolor\": \"white\"}, \"hoverlabel\": {\"align\": \"left\"}, \"hovermode\": \"closest\", \"mapbox\": {\"style\": \"light\"}, \"paper_bgcolor\": \"white\", \"plot_bgcolor\": \"#E5ECF6\", \"polar\": {\"angularaxis\": {\"gridcolor\": \"white\", \"linecolor\": \"white\", \"ticks\": \"\"}, \"bgcolor\": \"#E5ECF6\", \"radialaxis\": {\"gridcolor\": \"white\", \"linecolor\": \"white\", \"ticks\": \"\"}}, \"scene\": {\"xaxis\": {\"backgroundcolor\": \"#E5ECF6\", \"gridcolor\": \"white\", \"gridwidth\": 2, \"linecolor\": \"white\", \"showbackground\": true, \"ticks\": \"\", \"zerolinecolor\": \"white\"}, \"yaxis\": {\"backgroundcolor\": \"#E5ECF6\", \"gridcolor\": \"white\", \"gridwidth\": 2, \"linecolor\": \"white\", \"showbackground\": true, \"ticks\": \"\", \"zerolinecolor\": \"white\"}, \"zaxis\": {\"backgroundcolor\": \"#E5ECF6\", \"gridcolor\": \"white\", \"gridwidth\": 2, \"linecolor\": \"white\", \"showbackground\": true, \"ticks\": \"\", \"zerolinecolor\": \"white\"}}, \"shapedefaults\": {\"line\": {\"color\": \"#2a3f5f\"}}, \"ternary\": {\"aaxis\": {\"gridcolor\": \"white\", \"linecolor\": \"white\", \"ticks\": \"\"}, \"baxis\": {\"gridcolor\": \"white\", \"linecolor\": \"white\", \"ticks\": \"\"}, \"bgcolor\": \"#E5ECF6\", \"caxis\": {\"gridcolor\": \"white\", \"linecolor\": \"white\", \"ticks\": \"\"}}, \"title\": {\"x\": 0.05}, \"xaxis\": {\"automargin\": true, \"gridcolor\": \"white\", \"linecolor\": \"white\", \"ticks\": \"\", \"title\": {\"standoff\": 15}, \"zerolinecolor\": \"white\", \"zerolinewidth\": 2}, \"yaxis\": {\"automargin\": true, \"gridcolor\": \"white\", \"linecolor\": \"white\", \"ticks\": \"\", \"title\": {\"standoff\": 15}, \"zerolinecolor\": \"white\", \"zerolinewidth\": 2}}}, \"title\": {\"text\": \"\\u041e\\u0441\\u043d\\u043e\\u0432\\u043d\\u044b\\u0435 \\u043f\\u043e\\u043a\\u0430\\u0437\\u0430\\u0442\\u0435\\u043b\\u0438 \\u0440\\u0430\\u0437\\u0440\\u0430\\u0431\\u043e\\u0442\\u043a\\u0438\"}},                        {\"responsive\": true}                    ).then(function(){\n",
       "                            \n",
       "var gd = document.getElementById('824df8c8-5b77-4410-a6e1-b2a5c3f9bde1');\n",
       "var x = new MutationObserver(function (mutations, observer) {{\n",
       "        var display = window.getComputedStyle(gd).display;\n",
       "        if (!display || display === 'none') {{\n",
       "            console.log([gd, 'removed!']);\n",
       "            Plotly.purge(gd);\n",
       "            observer.disconnect();\n",
       "        }}\n",
       "}});\n",
       "\n",
       "// Listen for the removal of the full notebook cells\n",
       "var notebookContainer = gd.closest('#notebook-container');\n",
       "if (notebookContainer) {{\n",
       "    x.observe(notebookContainer, {childList: true});\n",
       "}}\n",
       "\n",
       "// Listen for the clearing of the current output cell\n",
       "var outputEl = gd.closest('.output');\n",
       "if (outputEl) {{\n",
       "    x.observe(outputEl, {childList: true});\n",
       "}}\n",
       "\n",
       "                        })                };                });            </script>        </div>"
      ]
     },
     "metadata": {},
     "output_type": "display_data"
    }
   ],
   "source": [
    "df = pd.read_csv('csv_folder/MODEL.0.csv', parse_dates=[0], index_col=[0])\n",
    "j, y, ind_j = 0, 0, 0\n",
    "time_list, q_oil, q_gas, q_wat, inj_wat = [], [], [], [], []\n",
    "to = df.index[0]\n",
    "fopt, fgpt, fwpt, fwit, flpt = [], [], [], [], []\n",
    "for t in df.index:\n",
    "    if abs((t - to).days) >= 360:\n",
    "        time_list.append(2020+y)\n",
    "        to = t\n",
    "        if y == 0:\n",
    "            fopt.append(round(df['FOPT'][j]/1000,2)) # добыча нефти по годам, тыс. т\n",
    "            fgpt.append(round(df['FGPT'][j]/1000000,2)) # добыча газа по годам, млн м3\n",
    "            fwpt.append(round(df['FWPT'][j]/1000,2)) # добыча воды по годам, тыс т\n",
    "            fwit.append(round(df['FWIT'][j]/1000,2)) # закачка воды по годам, тыс м3\n",
    "        else:\n",
    "            fopt.append(round(df['FOPT'][j]/1000-df['FOPT'][ind_j]/1000, 2)) # добыча нефти по годам, тыс. т\n",
    "            fgpt.append(round(df['FGPT'][j]/1000000-df['FGPT'][ind_j]/1000000,2)) # добыча газа по годам, млн м3\n",
    "            fwpt.append(round(df['FWPT'][j]/1000-df['FWPT'][ind_j]/1000,2)) # добыча воды по годам, тыс т\n",
    "            fwit.append(round(df['FWIT'][j]/1000-df['FWIT'][ind_j]/1000,2)) # закачка воды по годам, тыс м3\n",
    "        ind_j = j\n",
    "        y += 1\n",
    "    j += 1\n",
    "flpt = [round(x + y,2) for x, y in zip(fopt, fwpt)] # добыча жидкости = добыча нефти + добыча воды\n",
    "prod_fig = go.Figure()\n",
    "prod_fig.add_trace(go.Scatter(x=time_list, y=fopt, name='Добыча нефти, тыс. т'))\n",
    "prod_fig.add_trace(go.Scatter(x=time_list, y=flpt, name='Добыча жидкости, тыс. т'))\n",
    "prod_fig.add_trace(go.Scatter(x=time_list, y=fgpt, name='Добыча попутного газа, млн нм3'))\n",
    "prod_fig.add_trace(go.Scatter(x=time_list, y=fwit, name='Закачка воды, тыс. м3'))\n",
    "prod_fig.update_layout(legend_orientation=\"h\",\n",
    "                  legend=dict(x=.5, xanchor=\"center\"),\n",
    "                  title=\"Основные показатели разработки\")\n",
    "prod_fig.show()"
   ]
  },
  {
   "cell_type": "markdown",
   "id": "suspended-closer",
   "metadata": {},
   "source": [
    "*4) Вводим экономические показатели бурения скважин и данные о их вводе в эксплуатацию:*"
   ]
  },
  {
   "cell_type": "code",
   "execution_count": 6,
   "id": "backed-privilege",
   "metadata": {},
   "outputs": [],
   "source": [
    "drilling_speeds = [225, 225, 270, 270] # скорости проходки БУ1, БУ2, и т.д.; определенные значения для разных типов БУ (180, 225, 270)\n",
    "MD_drilling_prices, HW_prices, HF_prices, intensification_prices = [], [], [], []\n",
    "for speed in drilling_speeds:\n",
    "    MD_drilling_price = speed/100*100000 # стоимость проходки по стволу, руб/м\n",
    "    HW_price = speed/100*160000 # стоимость бурения ГС, руб/м\n",
    "    HF_price = speed/100*200000 # стоимость ГРП, руб/м полудлины трещины\n",
    "    intensification_price = speed/100*2000000 # стоимость ОПЗ, руб/м полудлины трещины\n",
    "    MD_drilling_prices.append(MD_drilling_price)\n",
    "    HW_prices.append(HW_price)\n",
    "    HF_prices.append(HF_price)\n",
    "    intensification_prices.append(intensification_price)\n",
    "i = len(time_list)\n",
    "prod_direct_wells = [[2, 1], [2, 0], [2, 0], [1, 0]] # ввод добывающих ННС без ГРП; основной список содержит вложенные списки - кусты, которые содержат элементы - кол-во скважин, введенных в экспл. в i-м году\n",
    "for k in range(0, len(prod_direct_wells)):\n",
    "    for j in range(len(prod_direct_wells[k]), i):\n",
    "        prod_direct_wells[k].append(0)\n",
    "        j+=1\n",
    "prod_direct_wells_with_HF = [[0, 0], [0, 0], [0, 0], [0, 0]] # ввод добывающих ННС с ГРП\n",
    "for k in range(0, len(prod_direct_wells_with_HF)):\n",
    "    for j in range(len(prod_direct_wells_with_HF[k]), i):\n",
    "        prod_direct_wells_with_HF[k].append(0)\n",
    "        j+=1\n",
    "prod_direct_wells_with_intense = [[0, 0], [0, 0], [0, 0], [0, 0]] # ввод добывающих ННС с ОПЗ\n",
    "for k in range(0, len(prod_direct_wells_with_intense)):\n",
    "    for j in range(len(prod_direct_wells_with_intense[k]), i):\n",
    "        prod_direct_wells_with_intense[k].append(0)\n",
    "        j+=1\n",
    "prod_horizontal_wells = [[], [], [], []] # ввод добывающих ГС\n",
    "for k in range(0, len(prod_horizontal_wells)):\n",
    "    for j in range(len(prod_horizontal_wells[k]), i):\n",
    "        prod_horizontal_wells[k].append(0)\n",
    "        j+=1\n",
    "inj_direct_wells = [[0, 1], [0, 1], [0, 2], [1, 1]] # ввод нагнетательных ННС\n",
    "for k in range(0, len(inj_direct_wells)):\n",
    "    for j in range(len(inj_direct_wells[k]), i):\n",
    "        inj_direct_wells[k].append(0)\n",
    "        j+=1"
   ]
  },
  {
   "cell_type": "markdown",
   "id": "young-columbus",
   "metadata": {},
   "source": [
    "*5) Рассчитаем доходы от продажи нефти:*"
   ]
  },
  {
   "cell_type": "code",
   "execution_count": 7,
   "id": "yellow-benjamin",
   "metadata": {},
   "outputs": [],
   "source": [
    "incomes = []\n",
    "for oil_rate in fopt:\n",
    "    sales = oil_rate * oil_price * 1000 # доход от продажи, руб\n",
    "    taxes = oil_rate * oil_taxes * 1000 # налог, руб\n",
    "    transport_outlay = oil_rate * transport_price * 1000 # расходы на транспорт нефти, руб\n",
    "    income = sales - taxes - transport_outlay # чистый доход, руб\n",
    "    incomes.append(income)"
   ]
  },
  {
   "cell_type": "markdown",
   "id": "continental-glenn",
   "metadata": {},
   "source": [
    "*6) Рассчитаем капитальные затраты на бурение скважин:*"
   ]
  },
  {
   "cell_type": "code",
   "execution_count": 9,
   "id": "ecological-rating",
   "metadata": {},
   "outputs": [
    {
     "name": "stdout",
     "output_type": "stream",
     "text": [
      "[4950000000.0, 3712500000.0, 0.0, 0.0, 0.0, 0.0, 0.0, 0.0, 0.0, 0.0, 0.0, 0.0, 0.0, 0.0, 0.0, 0.0, 0.0, 0.0, 0.0, 0.0]\n"
     ]
    }
   ],
   "source": [
    "drilling_CAPEX_list = []\n",
    "j = 0\n",
    "for time in time_list: # кап.затраты по годам\n",
    "    drilling_CAPEX = 0\n",
    "    for i in range(0, pads_number): # кап.затраты на данный год складываются по всем кустам\n",
    "        prod_direct_wells_CAPEX = depth * MD_drilling_prices[i] * prod_direct_wells[i][j] # кап.затраты на строительство добывающих ННС без ГРП\n",
    "        prod_direct_wells_with_HF_CAPEX = (depth * MD_drilling_prices[i] + HF_halflength *  HF_prices[i]) * prod_direct_wells_with_HF[i][j] # кап.затраты на строительство добывающих ННС с ГРП\n",
    "        prod_direct_wells_with_intense_CAPEX = (depth * MD_drilling_prices[i] + intensification_prices[i]) * prod_direct_wells_with_intense[i][j] # кап.затраты на строительство добывающих ННС с ОПЗ\n",
    "        prod_horizontal_wells_CAPEX = (depth * MD_drilling_prices[i] + horizontal_length * HW_prices[i]) * prod_horizontal_wells[i][j] # кап.затраты на строительство добывающих ГС\n",
    "        inj_direct_wells_CAPEX = depth * MD_drilling_prices[i] * inj_direct_wells[i][j] # кап.затраты на строительство нагнетательных ННС\n",
    "        drilling_CAPEX += (prod_direct_wells_CAPEX + prod_direct_wells_with_HF_CAPEX + prod_direct_wells_with_intense_CAPEX + prod_horizontal_wells_CAPEX + inj_direct_wells_CAPEX) # кап.затраты на строительство нагнетательных ННС\n",
    "    drilling_CAPEX_list.append(drilling_CAPEX)\n",
    "    j+=1\n",
    "print(drilling_CAPEX_list)"
   ]
  },
  {
   "cell_type": "markdown",
   "id": "comparable-pollution",
   "metadata": {},
   "source": [
    "*7) Рассчитаем капитальные затраты на обустройство месторождения:*"
   ]
  }
 ],
 "metadata": {
  "kernelspec": {
   "display_name": "Python 3",
   "language": "python",
   "name": "python3"
  },
  "language_info": {
   "codemirror_mode": {
    "name": "ipython",
    "version": 3
   },
   "file_extension": ".py",
   "mimetype": "text/x-python",
   "name": "python",
   "nbconvert_exporter": "python",
   "pygments_lexer": "ipython3",
   "version": "3.9.1"
  }
 },
 "nbformat": 4,
 "nbformat_minor": 5
}
